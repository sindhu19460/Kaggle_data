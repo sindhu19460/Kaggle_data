{
 "cells": [
  {
   "cell_type": "raw",
   "metadata": {},
   "source": [
    "\n",
    "Context\n",
    "This is probably the dumbest dataset on Kaggle. The whole point is, however, to provide a common dataset for linear regression. Although such a dataset can easily be generated in Excel with random numbers, results would not be comparable.\n",
    "\n",
    "Content\n",
    "The training dataset is a CSV file with 700 data pairs (x,y). The x-values are numbers between 0 and 100. The corresponding y-values have been generated using the Excel function NORMINV(RAND(), x, 3). Consequently, the best estimate for y should be x.\n",
    "The test dataset is a CSV file with 300 data pairs.\n",
    "\n",
    "Acknowledgements\n",
    "Thank you, Dan Bricklin and Bob Frankston for inventing the first spreadsheet.\n",
    "\n",
    "Inspiration\n",
    "I hope this dataset will encourage all newbies to enter the world of machine learning, possibly starting with a simple linear regression.\n",
    "\n",
    "Data license\n",
    "Obviously, data is free."
   ]
  },
  {
   "cell_type": "raw",
   "metadata": {},
   "source": [
    "wanted lib and extracting a data"
   ]
  },
  {
   "cell_type": "code",
   "execution_count": 1,
   "metadata": {},
   "outputs": [],
   "source": [
    "#imported required libraries\n",
    "\n",
    "import pandas as pd\n",
    "import matplotlib.pyplot as plt\n",
    "import numpy as np\n",
    "#from sklearn import linear_model\n",
    "import statsmodels.formula.api as smf\n",
    "from scipy import stats as st\n",
    "import math"
   ]
  },
  {
   "cell_type": "raw",
   "metadata": {},
   "source": [
    "loaded the data"
   ]
  },
  {
   "cell_type": "code",
   "execution_count": 2,
   "metadata": {},
   "outputs": [],
   "source": [
    "#Load up the file\n",
    "train = pd.read_csv(\"train.csv\")\n",
    "test = pd.read_csv(\"test.csv\")"
   ]
  },
  {
   "cell_type": "code",
   "execution_count": 3,
   "metadata": {},
   "outputs": [
    {
     "name": "stdout",
     "output_type": "stream",
     "text": [
      "head       x          y\n",
      "0  24.0  21.549452\n",
      "1  50.0  47.464463\n",
      "2  15.0  17.218656\n",
      "3  38.0  36.586398\n",
      "4  87.0  87.288984\n",
      "\n",
      "shape (700, 2)\n"
     ]
    }
   ],
   "source": [
    "#head and shape of data\n",
    "#lets print some of the train data just to get used to using pandas\n",
    "t_head = train.head()\n",
    "#either u can use seems like below \n",
    "#print(train_set.loc[0:5]['y'])\n",
    "#print(train_set.loc[0:5]['x'])\n",
    "#Shape\n",
    "t_shape = train.shape\n",
    "print(\"head\", t_head )\n",
    "print('\\n' \"shape\", t_shape)\n"
   ]
  },
  {
   "cell_type": "code",
   "execution_count": 4,
   "metadata": {
    "scrolled": true
   },
   "outputs": [
    {
     "name": "stdout",
     "output_type": "stream",
     "text": [
      "head     x          y\n",
      "0  77  79.775152\n",
      "1  21  23.177279\n",
      "2  22  25.609262\n",
      "3  20  17.857388\n",
      "4  36  41.849864\n",
      "\n",
      "shape (300, 2)\n"
     ]
    }
   ],
   "source": [
    "tt_head = test.head()\n",
    "tt_shape = test.shape\n",
    "print(\"head\", tt_head )\n",
    "print('\\n' \"shape\", tt_shape)"
   ]
  },
  {
   "cell_type": "raw",
   "metadata": {},
   "source": [
    "preprocessing the data"
   ]
  },
  {
   "cell_type": "code",
   "execution_count": 5,
   "metadata": {
    "scrolled": true
   },
   "outputs": [],
   "source": [
    "#was cleaning the unwanted data \n",
    "train_set = train.dropna()\n",
    "test_set = test.dropna()"
   ]
  },
  {
   "cell_type": "code",
   "execution_count": 6,
   "metadata": {},
   "outputs": [
    {
     "name": "stdout",
     "output_type": "stream",
     "text": [
      "rows before clean:    1400 \n",
      "\n",
      "rows befter clean:    1398 \n",
      "\n",
      "(699, 2)\n"
     ]
    }
   ],
   "source": [
    "# after clean see the effect of it\n",
    "print(\"rows before clean:   \",train.size,\"\\n\")\n",
    "print(\"rows befter clean:   \",train_set.size,\"\\n\")\n",
    "t_s = train_set.shape\n",
    "print(t_s)"
   ]
  },
  {
   "cell_type": "code",
   "execution_count": 7,
   "metadata": {
    "scrolled": true
   },
   "outputs": [
    {
     "name": "stdout",
     "output_type": "stream",
     "text": [
      "rows before clean:    600 \n",
      "\n",
      "rows befter clean:    600 \n",
      "\n",
      "(300, 2)\n"
     ]
    }
   ],
   "source": [
    "# after clean see the effect of it\n",
    "print(\"rows before clean:   \",test.size,\"\\n\")\n",
    "print(\"rows befter clean:   \",test_set.size,\"\\n\")\n",
    "tt_s = test_set.shape\n",
    "print(tt_s)"
   ]
  },
  {
   "cell_type": "code",
   "execution_count": null,
   "metadata": {},
   "outputs": [],
   "source": []
  },
  {
   "cell_type": "code",
   "execution_count": 8,
   "metadata": {
    "scrolled": false
   },
   "outputs": [
    {
     "name": "stdout",
     "output_type": "stream",
     "text": [
      "Mean of  Training set:  x    50.014306\n",
      "y    49.939869\n",
      "dtype: float64 \n",
      "\n",
      "Median of Training set:  49.0 \n",
      "\n",
      "Std Dev of Training set:  x    28.933841\n",
      "y    29.088388\n",
      "dtype: float64 \n",
      "\n",
      "Std Dev of  Training set:  x    28.933841\n",
      "y    29.088388\n",
      "dtype: float64 \n",
      "\n"
     ]
    }
   ],
   "source": [
    "# Review some of the statistics to check whether the data is skewed\n",
    "print (\"Mean of  Training set: \", np.mean(train_set), \"\\n\")\n",
    "print (\"Median of Training set: \", np.median(train_set), \"\\n\")\n",
    "\n",
    "print (\"Std Dev of Training set: \", np.std(train_set), \"\\n\")\n",
    "print (\"Std Dev of  Training set: \", np.std(train_set), \"\\n\")"
   ]
  },
  {
   "cell_type": "markdown",
   "metadata": {},
   "source": [
    "EDA"
   ]
  },
  {
   "cell_type": "raw",
   "metadata": {},
   "source": [
    "# So let's plot some of the data \n",
    "# - this gives some core routines to experiment with different parameters\n"
   ]
  },
  {
   "cell_type": "code",
   "execution_count": 9,
   "metadata": {
    "scrolled": true
   },
   "outputs": [
    {
     "data": {
      "image/png": "[encoded data removed]",
      "text/plain": [
       "<Figure size 432x288 with 1 Axes>"
      ]
     },
     "metadata": {
      "needs_background": "light"
     },
     "output_type": "display_data"
    }
   ],
   "source": [
    "plt.title(\"Relation between x and y\")\n",
    "plt.scatter(train_set.x,train_set.y, color='black')\n",
    "plt.show()"
   ]
  },
  {
   "cell_type": "code",
   "execution_count": 10,
   "metadata": {},
   "outputs": [
    {
     "data": {
      "image/png": "[encoded data removed]",
      "text/plain": [
       "<Figure size 432x288 with 2 Axes>"
      ]
     },
     "metadata": {
      "needs_background": "light"
     },
     "output_type": "display_data"
    },
    {
     "data": {
      "image/png": "[encoded data removed]",
      "text/plain": [
       "<Figure size 432x288 with 1 Axes>"
      ]
     },
     "metadata": {
      "needs_background": "light"
     },
     "output_type": "display_data"
    }
   ],
   "source": [
    "#use subplot to have graphs side by side\n",
    "plt.subplot(1,2,1)\n",
    "plt.title(\"x train set\")\n",
    "plt.hist(train_set.x)\n",
    "#y\n",
    "plt.subplot(1,2,2)\n",
    "plt.title(\"y train set\")\n",
    "plt.hist(train_set.y)\n",
    "plt.show()\n",
    "#Full\n",
    "\n",
    "plt.title(\"train set\")\n",
    "plt.hist(train_set)\n",
    "plt.show()"
   ]
  },
  {
   "cell_type": "code",
   "execution_count": 11,
   "metadata": {
    "scrolled": true
   },
   "outputs": [
    {
     "data": {
      "image/png": "[encoded data removed]",
      "text/plain": [
       "<Figure size 432x288 with 2 Axes>"
      ]
     },
     "metadata": {
      "needs_background": "light"
     },
     "output_type": "display_data"
    }
   ],
   "source": [
    "#Box plot\n",
    "plt.subplot(1,2,1)\n",
    "plt.title(\"x_train_boxplot\")\n",
    "plt.boxplot(train_set.x)\n",
    "\n",
    "plt.subplot(1,2,2)\n",
    "plt.title(\"y_train_boxplot\")\n",
    "plt.boxplot(train_set.y)\n",
    "plt.show()\n"
   ]
  },
  {
   "cell_type": "raw",
   "metadata": {},
   "source": [
    "Model building"
   ]
  },
  {
   "cell_type": "raw",
   "metadata": {},
   "source": [
    "#Either u can use this \n",
    "lm = linear_model.LinearRegression()\n",
    "lm.fit(train_set.x,train_set.y)\n"
   ]
  },
  {
   "cell_type": "code",
   "execution_count": 12,
   "metadata": {
    "scrolled": true
   },
   "outputs": [
    {
     "name": "stdout",
     "output_type": "stream",
     "text": [
      "                            OLS Regression Results                            \n",
      "==============================================================================\n",
      "Dep. Variable:                      x   R-squared:                       0.991\n",
      "Model:                            OLS   Adj. R-squared:                  0.991\n",
      "Method:                 Least Squares   F-statistic:                 7.426e+04\n",
      "Date:                Mon, 26 Oct 2020   Prob (F-statistic):               0.00\n",
      "Time:                        10:05:08   Log-Likelihood:                -1709.1\n",
      "No. Observations:                 699   AIC:                             3422.\n",
      "Df Residuals:                     697   BIC:                             3431.\n",
      "Df Model:                           1                                         \n",
      "Covariance Type:            nonrobust                                         \n",
      "==============================================================================\n",
      "                 coef    std err          t      P>|t|      [0.025      0.975]\n",
      "------------------------------------------------------------------------------\n",
      "Intercept      0.5713      0.210      2.721      0.007       0.159       0.984\n",
      "y              0.9901      0.004    272.510      0.000       0.983       0.997\n",
      "==============================================================================\n",
      "Omnibus:                        0.108   Durbin-Watson:                   1.962\n",
      "Prob(Omnibus):                  0.947   Jarque-Bera (JB):                0.090\n",
      "Skew:                          -0.028   Prob(JB):                        0.956\n",
      "Kurtosis:                       2.999   Cond. No.                         115.\n",
      "==============================================================================\n",
      "\n",
      "Warnings:\n",
      "[1] Standard Errors assume that the covariance matrix of the errors is correctly specified.\n"
     ]
    }
   ],
   "source": [
    "#NOR THIS\n",
    "model = smf.ols(\"x~y\", data = train_set).fit()\n",
    "print(model.summary())"
   ]
  },
  {
   "cell_type": "code",
   "execution_count": 13,
   "metadata": {},
   "outputs": [
    {
     "name": "stdout",
     "output_type": "stream",
     "text": [
      "parameter: Intercept    0.571255\n",
      "y            0.990052\n",
      "dtype: float64 \n",
      "\n",
      "r2 0.9907015319025518 \n",
      "\n",
      "standard error: Intercept    0.209970\n",
      "y            0.003633\n",
      "dtype: float64 \n",
      "\n",
      "Predicted values:  <bound method Results.predict of <statsmodels.regression.linear_model.OLSResults object at 0x000000254C68FB08>>\n"
     ]
    }
   ],
   "source": [
    "print(\"parameter:\", model.params,\"\\n\")\n",
    "print(\"r2\", model.rsquared,\"\\n\")\n",
    "print(\"standard error:\", model.bse,\"\\n\")\n",
    "print('Predicted values: ', model.predict)"
   ]
  },
  {
   "cell_type": "code",
   "execution_count": 14,
   "metadata": {
    "scrolled": true
   },
   "outputs": [
    {
     "data": {
      "image/png": "[encoded data removed]",
      "text/plain": [
       "<Figure size 576x432 with 1 Axes>"
      ]
     },
     "metadata": {
      "needs_background": "light"
     },
     "output_type": "display_data"
    }
   ],
   "source": [
    "from statsmodels.sandbox.regression.predstd import wls_prediction_std\n",
    "\n",
    "prstd, iv_l, iv_u = wls_prediction_std(model)\n",
    "\n",
    "fig, ax = plt.subplots(figsize=(8,6))\n",
    "\n",
    "ax.plot(train_set.x, train_set.y, 'o', label=\"data\")\n",
    "ax.plot(train_set.x, model.fittedvalues, 'r--.', label=\"OLS\")\n",
    "ax.plot(train_set.x, iv_u, 'r--')\n",
    "ax.plot(train_set.x, iv_l, 'r--')\n",
    "ax.legend(loc='best');\n",
    "\n"
   ]
  },
  {
   "cell_type": "code",
   "execution_count": 15,
   "metadata": {
    "scrolled": true
   },
   "outputs": [
    {
     "name": "stdout",
     "output_type": "stream",
     "text": [
      "0      21.906326\n",
      "1      47.563526\n",
      "2      17.618614\n",
      "3      36.793680\n",
      "4      86.991860\n",
      "         ...    \n",
      "695    58.583339\n",
      "696    94.254988\n",
      "697    88.293566\n",
      "698    63.586743\n",
      "699    94.601676\n",
      "Length: 699, dtype: float64\n"
     ]
    }
   ],
   "source": [
    "pred = model.predict(train_set)\n",
    "print(pred)\n"
   ]
  },
  {
   "cell_type": "code",
   "execution_count": 16,
   "metadata": {},
   "outputs": [
    {
     "name": "stdout",
     "output_type": "stream",
     "text": [
      "0      21.549452\n",
      "1      47.464463\n",
      "2      17.218656\n",
      "3      36.586398\n",
      "4      87.288984\n",
      "         ...    \n",
      "695    58.595006\n",
      "696    94.625094\n",
      "697    88.603770\n",
      "698    63.648685\n",
      "699    94.975266\n",
      "Name: y, Length: 699, dtype: float64\n"
     ]
    }
   ],
   "source": [
    "test_y = train_set.y\n",
    "print(test_y)"
   ]
  },
  {
   "cell_type": "code",
   "execution_count": 17,
   "metadata": {
    "scrolled": true
   },
   "outputs": [
    {
     "data": {
      "image/png": "[encoded data removed]",
      "text/plain": [
       "<Figure size 432x288 with 1 Axes>"
      ]
     },
     "metadata": {
      "needs_background": "light"
     },
     "output_type": "display_data"
    }
   ],
   "source": [
    "plt.title(\"predicted\")\n",
    "plt.ylabel(\"test set\")\n",
    "plt.xlabel(\"predicted values\")\n",
    "plt.scatter(pred,test_y, color = 'black')\n",
    "plt.show()"
   ]
  },
  {
   "cell_type": "raw",
   "metadata": {},
   "source": [
    "#Its really good fit! "
   ]
  }
 ],
 "metadata": {
  "kernelspec": {
   "display_name": "Python 3",
   "language": "python",
   "name": "python3"
  },
  "language_info": {
   "codemirror_mode": {
    "name": "ipython",
    "version": 3
   },
   "file_extension": ".py",
   "mimetype": "text/x-python",
   "name": "python",
   "nbconvert_exporter": "python",
   "pygments_lexer": "ipython3",
   "version": "3.7.6"
  }
 },
 "nbformat": 4,
 "nbformat_minor": 4
}
